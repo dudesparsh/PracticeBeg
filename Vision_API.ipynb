{
  "nbformat": 4,
  "nbformat_minor": 0,
  "metadata": {
    "colab": {
      "name": "Vision API.ipynb",
      "version": "0.3.2",
      "provenance": [],
      "include_colab_link": true
    },
    "kernelspec": {
      "name": "python3",
      "display_name": "Python 3"
    }
  },
  "cells": [
    {
      "cell_type": "markdown",
      "metadata": {
        "id": "view-in-github",
        "colab_type": "text"
      },
      "source": [
        "<a href=\"https://colab.research.google.com/github/dudesparsh/PracticeBeg/blob/master/Vision_API.ipynb\" target=\"_parent\"><img src=\"https://colab.research.google.com/assets/colab-badge.svg\" alt=\"Open In Colab\"/></a>"
      ]
    },
    {
      "cell_type": "code",
      "metadata": {
        "id": "QP53L74EE1Pa",
        "colab_type": "code",
        "colab": {
          "base_uri": "https://localhost:8080/",
          "height": 496
        },
        "outputId": "4e18e3f1-bea8-49de-b12a-1d84dacc2d35"
      },
      "source": [
        "!pip install google-cloud-vision\n"
      ],
      "execution_count": 1,
      "outputs": [
        {
          "output_type": "stream",
          "text": [
            "Collecting google-cloud-vision\n",
            "\u001b[?25l  Downloading https://files.pythonhosted.org/packages/f2/bf/112a0707a425961516693ac526725bc3f51db44fc3d02998da3ee2b82ef1/google_cloud_vision-0.36.0-py2.py3-none-any.whl (383kB)\n",
            "\u001b[K     |████████████████████████████████| 389kB 2.4MB/s \n",
            "\u001b[?25hRequirement already satisfied: google-api-core[grpc]<2.0.0dev,>=1.6.0 in /usr/local/lib/python3.6/dist-packages (from google-cloud-vision) (1.11.0)\n",
            "Requirement already satisfied: protobuf>=3.4.0 in /usr/local/lib/python3.6/dist-packages (from google-api-core[grpc]<2.0.0dev,>=1.6.0->google-cloud-vision) (3.7.1)\n",
            "Requirement already satisfied: googleapis-common-protos!=1.5.4,<2.0dev,>=1.5.3 in /usr/local/lib/python3.6/dist-packages (from google-api-core[grpc]<2.0.0dev,>=1.6.0->google-cloud-vision) (1.6.0)\n",
            "Requirement already satisfied: google-auth<2.0dev,>=0.4.0 in /usr/local/lib/python3.6/dist-packages (from google-api-core[grpc]<2.0.0dev,>=1.6.0->google-cloud-vision) (1.4.2)\n",
            "Requirement already satisfied: requests<3.0.0dev,>=2.18.0 in /usr/local/lib/python3.6/dist-packages (from google-api-core[grpc]<2.0.0dev,>=1.6.0->google-cloud-vision) (2.21.0)\n",
            "Requirement already satisfied: pytz in /usr/local/lib/python3.6/dist-packages (from google-api-core[grpc]<2.0.0dev,>=1.6.0->google-cloud-vision) (2018.9)\n",
            "Requirement already satisfied: setuptools>=34.0.0 in /usr/local/lib/python3.6/dist-packages (from google-api-core[grpc]<2.0.0dev,>=1.6.0->google-cloud-vision) (41.0.1)\n",
            "Requirement already satisfied: six>=1.10.0 in /usr/local/lib/python3.6/dist-packages (from google-api-core[grpc]<2.0.0dev,>=1.6.0->google-cloud-vision) (1.12.0)\n",
            "Requirement already satisfied: grpcio>=1.8.2; extra == \"grpc\" in /usr/local/lib/python3.6/dist-packages (from google-api-core[grpc]<2.0.0dev,>=1.6.0->google-cloud-vision) (1.15.0)\n",
            "Requirement already satisfied: rsa>=3.1.4 in /usr/local/lib/python3.6/dist-packages (from google-auth<2.0dev,>=0.4.0->google-api-core[grpc]<2.0.0dev,>=1.6.0->google-cloud-vision) (4.0)\n",
            "Requirement already satisfied: cachetools>=2.0.0 in /usr/local/lib/python3.6/dist-packages (from google-auth<2.0dev,>=0.4.0->google-api-core[grpc]<2.0.0dev,>=1.6.0->google-cloud-vision) (3.1.0)\n",
            "Requirement already satisfied: pyasn1-modules>=0.2.1 in /usr/local/lib/python3.6/dist-packages (from google-auth<2.0dev,>=0.4.0->google-api-core[grpc]<2.0.0dev,>=1.6.0->google-cloud-vision) (0.2.5)\n",
            "Requirement already satisfied: idna<2.9,>=2.5 in /usr/local/lib/python3.6/dist-packages (from requests<3.0.0dev,>=2.18.0->google-api-core[grpc]<2.0.0dev,>=1.6.0->google-cloud-vision) (2.8)\n",
            "Requirement already satisfied: chardet<3.1.0,>=3.0.2 in /usr/local/lib/python3.6/dist-packages (from requests<3.0.0dev,>=2.18.0->google-api-core[grpc]<2.0.0dev,>=1.6.0->google-cloud-vision) (3.0.4)\n",
            "Requirement already satisfied: certifi>=2017.4.17 in /usr/local/lib/python3.6/dist-packages (from requests<3.0.0dev,>=2.18.0->google-api-core[grpc]<2.0.0dev,>=1.6.0->google-cloud-vision) (2019.3.9)\n",
            "Requirement already satisfied: urllib3<1.25,>=1.21.1 in /usr/local/lib/python3.6/dist-packages (from requests<3.0.0dev,>=2.18.0->google-api-core[grpc]<2.0.0dev,>=1.6.0->google-cloud-vision) (1.24.3)\n",
            "Requirement already satisfied: pyasn1>=0.1.3 in /usr/local/lib/python3.6/dist-packages (from rsa>=3.1.4->google-auth<2.0dev,>=0.4.0->google-api-core[grpc]<2.0.0dev,>=1.6.0->google-cloud-vision) (0.4.5)\n",
            "Installing collected packages: google-cloud-vision\n",
            "Successfully installed google-cloud-vision-0.36.0\n"
          ],
          "name": "stdout"
        },
        {
          "output_type": "display_data",
          "data": {
            "application/vnd.colab-display-data+json": {
              "pip_warning": {
                "packages": [
                  "google"
                ]
              }
            }
          },
          "metadata": {
            "tags": []
          }
        }
      ]
    },
    {
      "cell_type": "code",
      "metadata": {
        "id": "q-DGOHxEE-7e",
        "colab_type": "code",
        "colab": {}
      },
      "source": [
        "from google.cloud import vision\n"
      ],
      "execution_count": 0,
      "outputs": []
    },
    {
      "cell_type": "code",
      "metadata": {
        "id": "3hpevcpaFNWn",
        "colab_type": "code",
        "colab": {
          "base_uri": "https://localhost:8080/",
          "height": 34
        },
        "outputId": "4120d033-8664-45c1-e915-8a0536f4f702"
      },
      "source": [
        "%env GOOGLE_APPLICATION_CREDENTIALS='My_First_Project.json'"
      ],
      "execution_count": 18,
      "outputs": [
        {
          "output_type": "stream",
          "text": [
            "env: GOOGLE_APPLICATION_CREDENTIALS='My_First_Project.json'\n"
          ],
          "name": "stdout"
        }
      ]
    },
    {
      "cell_type": "code",
      "metadata": {
        "id": "JJsoIxFzMA7y",
        "colab_type": "code",
        "colab": {}
      },
      "source": [
        "#    var client = ImageAnnotatorClient.Create();\n",
        "#export GOOGLE_APPLICATION_CREDENTIALS=\"My_First_Project.json\"\n",
        "\n",
        "import os\n",
        "os.environ[\"GOOGLE_APPLICATION_CREDENTIALS\"]=\"My_First_Project.json\"\n"
      ],
      "execution_count": 0,
      "outputs": []
    },
    {
      "cell_type": "code",
      "metadata": {
        "id": "gIaXL1GhTCD5",
        "colab_type": "code",
        "colab": {}
      },
      "source": [
        "client = vision.ImageAnnotatorClient()\n",
        "\n"
      ],
      "execution_count": 0,
      "outputs": []
    },
    {
      "cell_type": "code",
      "metadata": {
        "id": "JEe2enNXTJar",
        "colab_type": "code",
        "colab": {}
      },
      "source": [
        "import io\n",
        "\n",
        "path = 'image.jpg'\n",
        "with io.open(path, 'rb') as image_file:\n",
        "        content = image_file.read()\n"
      ],
      "execution_count": 0,
      "outputs": []
    },
    {
      "cell_type": "code",
      "metadata": {
        "id": "c8Vz9YG9TquN",
        "colab_type": "code",
        "colab": {}
      },
      "source": [
        "image = vision.types.Image(content=content)\n"
      ],
      "execution_count": 0,
      "outputs": []
    },
    {
      "cell_type": "code",
      "metadata": {
        "id": "G2pwlh6qTxyF",
        "colab_type": "code",
        "colab": {
          "base_uri": "https://localhost:8080/",
          "height": 714
        },
        "outputId": "d5b9fedf-edd2-4188-b349-8a175d5ee39d"
      },
      "source": [
        "response = client.image_properties(image=image)\n",
        "props = response.image_properties_annotation\n",
        "print('Properties of the image:')\n",
        "\n",
        "for color in props.dominant_colors.colors:\n",
        "    print('Fraction: {}'.format(color.pixel_fraction))\n",
        "    print('\\tr: {}'.format(color.color.red))\n",
        "    print('\\tg: {}'.format(color.color.green))\n",
        "    print('\\tb: {}'.format(color.color.blue))\n"
      ],
      "execution_count": 33,
      "outputs": [
        {
          "output_type": "stream",
          "text": [
            "Properties of the image:\n",
            "Fraction: 0.13972888886928558\n",
            "\tr: 192.0\n",
            "\tg: 198.0\n",
            "\tb: 206.0\n",
            "Fraction: 0.005614823196083307\n",
            "\tr: 150.0\n",
            "\tg: 108.0\n",
            "\tb: 125.0\n",
            "Fraction: 0.06785915046930313\n",
            "\tr: 170.0\n",
            "\tg: 153.0\n",
            "\tb: 91.0\n",
            "Fraction: 0.013635998591780663\n",
            "\tr: 121.0\n",
            "\tg: 76.0\n",
            "\tb: 38.0\n",
            "Fraction: 0.059035856276750565\n",
            "\tr: 216.0\n",
            "\tg: 223.0\n",
            "\tb: 232.0\n",
            "Fraction: 0.04636239632964134\n",
            "\tr: 187.0\n",
            "\tg: 200.0\n",
            "\tb: 219.0\n",
            "Fraction: 0.020373785868287086\n",
            "\tr: 211.0\n",
            "\tg: 224.0\n",
            "\tb: 242.0\n",
            "Fraction: 0.038180798292160034\n",
            "\tr: 162.0\n",
            "\tg: 160.0\n",
            "\tb: 162.0\n",
            "Fraction: 0.0016844469355419278\n",
            "\tr: 158.0\n",
            "\tg: 96.0\n",
            "\tb: 127.0\n",
            "Fraction: 0.0014438116922974586\n",
            "\tr: 159.0\n",
            "\tg: 96.0\n",
            "\tb: 134.0\n"
          ],
          "name": "stdout"
        }
      ]
    }
  ]
}