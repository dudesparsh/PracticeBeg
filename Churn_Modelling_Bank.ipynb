{
  "nbformat": 4,
  "nbformat_minor": 0,
  "metadata": {
    "colab": {
      "name": "Churn Modelling Bank.ipynb",
      "version": "0.3.2",
      "provenance": [],
      "collapsed_sections": []
    },
    "kernelspec": {
      "name": "python3",
      "display_name": "Python 3"
    },
    "accelerator": "GPU"
  },
  "cells": [
    {
      "cell_type": "code",
      "metadata": {
        "id": "LALHwSgRqPkQ",
        "colab_type": "code",
        "colab": {}
      },
      "source": [
        "import numpy as np\n",
        "import matplotlib.pyplot as plt\n",
        "import pandas as pd\n"
      ],
      "execution_count": 0,
      "outputs": []
    },
    {
      "cell_type": "code",
      "metadata": {
        "id": "Y6sv8HCStZz1",
        "colab_type": "code",
        "colab": {}
      },
      "source": [
        "\n",
        "# Importing the dataset\n",
        "dataset = pd.read_csv('Churn_Modelling.csv')\n",
        "X = dataset.iloc[:, 3:13].values\n",
        "Y = dataset.iloc[:, 13].values\n"
      ],
      "execution_count": 0,
      "outputs": []
    },
    {
      "cell_type": "code",
      "metadata": {
        "id": "1sqJhu-vtbXo",
        "colab_type": "code",
        "outputId": "45f6a73a-584d-4b60-bc44-776870140c85",
        "colab": {
          "base_uri": "https://localhost:8080/",
          "height": 139
        }
      },
      "source": [
        "\n",
        "#Encoding categorical data - to change to binary\n",
        "from sklearn.preprocessing import LabelEncoder, OneHotEncoder\n",
        "labelencoder_X_1 = LabelEncoder()\n",
        "X[:, 1] = labelencoder_X_1.fit_transform(X[:, 1])\n",
        "labelencoder_X_2 = LabelEncoder()\n",
        "X[:, 2] = labelencoder_X_2.fit_transform(X[:, 2])\n",
        "onehotencoder = OneHotEncoder(categorical_features = [1])\n",
        "X = onehotencoder.fit_transform(X).toarray()\n",
        "X = X[:, 1:]\n"
      ],
      "execution_count": 0,
      "outputs": [
        {
          "output_type": "stream",
          "text": [
            "/usr/local/lib/python3.6/dist-packages/sklearn/preprocessing/_encoders.py:415: FutureWarning: The handling of integer data will change in version 0.22. Currently, the categories are determined based on the range [0, max(values)], while in the future they will be determined based on the unique values.\n",
            "If you want the future behaviour and silence this warning, you can specify \"categories='auto'\".\n",
            "In case you used a LabelEncoder before this OneHotEncoder to convert the categories to integers, then you can now use the OneHotEncoder directly.\n",
            "  warnings.warn(msg, FutureWarning)\n",
            "/usr/local/lib/python3.6/dist-packages/sklearn/preprocessing/_encoders.py:451: DeprecationWarning: The 'categorical_features' keyword is deprecated in version 0.20 and will be removed in 0.22. You can use the ColumnTransformer instead.\n",
            "  \"use the ColumnTransformer instead.\", DeprecationWarning)\n"
          ],
          "name": "stderr"
        }
      ]
    },
    {
      "cell_type": "code",
      "metadata": {
        "id": "zANZzMSQ97H7",
        "colab_type": "code",
        "colab": {}
      },
      "source": [
        "#Splitting the dataset into the Training set and Test set\n",
        "from sklearn.model_selection import train_test_split\n",
        "X_train, X_test, Y_train, Y_test = train_test_split(X, Y, test_size = 0.2, random_state = 0)\n"
      ],
      "execution_count": 0,
      "outputs": []
    },
    {
      "cell_type": "code",
      "metadata": {
        "id": "MaBZKJa8_tko",
        "colab_type": "code",
        "colab": {}
      },
      "source": [
        "#Feature scaling\n",
        "from sklearn.preprocessing import StandardScaler\n",
        "sc = StandardScaler()\n",
        "X_train = sc.fit_transform(X_train)\n",
        "X_test = sc.transform(X_test)"
      ],
      "execution_count": 0,
      "outputs": []
    },
    {
      "cell_type": "code",
      "metadata": {
        "id": "TuncH7GSAN8b",
        "colab_type": "code",
        "outputId": "19428c44-dd31-4549-bb48-b80f04384328",
        "colab": {
          "base_uri": "https://localhost:8080/",
          "height": 34
        }
      },
      "source": [
        "import keras\n",
        "from keras.models import Sequential\n",
        "from keras.layers import Dense"
      ],
      "execution_count": 0,
      "outputs": [
        {
          "output_type": "stream",
          "text": [
            "Using TensorFlow backend.\n"
          ],
          "name": "stderr"
        }
      ]
    },
    {
      "cell_type": "code",
      "metadata": {
        "id": "EmHWIe71AZaP",
        "colab_type": "code",
        "outputId": "2bd2dbe6-5627-431b-c43e-3554cbcda8b0",
        "colab": {
          "base_uri": "https://localhost:8080/",
          "height": 88
        }
      },
      "source": [
        "#Initializing the ANN\n",
        "classifier = Sequential()"
      ],
      "execution_count": 0,
      "outputs": [
        {
          "output_type": "stream",
          "text": [
            "WARNING: Logging before flag parsing goes to stderr.\n",
            "W0726 06:40:10.762724 140487471871872 deprecation_wrapper.py:119] From /usr/local/lib/python3.6/dist-packages/keras/backend/tensorflow_backend.py:74: The name tf.get_default_graph is deprecated. Please use tf.compat.v1.get_default_graph instead.\n",
            "\n"
          ],
          "name": "stderr"
        }
      ]
    },
    {
      "cell_type": "code",
      "metadata": {
        "id": "zHIFS8_6AgoT",
        "colab_type": "code",
        "outputId": "f5e9b58d-e73e-4d7a-c00c-7a786db447d5",
        "colab": {
          "base_uri": "https://localhost:8080/",
          "height": 71
        }
      },
      "source": [
        "classifier.add(Dense(output_dim = 6, init = 'uniform', activation = 'relu', input_dim = 11))"
      ],
      "execution_count": 0,
      "outputs": [
        {
          "output_type": "stream",
          "text": [
            "/usr/local/lib/python3.6/dist-packages/ipykernel_launcher.py:1: UserWarning: Update your `Dense` call to the Keras 2 API: `Dense(activation=\"relu\", input_dim=11, units=6, kernel_initializer=\"uniform\")`\n",
            "  \"\"\"Entry point for launching an IPython kernel.\n"
          ],
          "name": "stderr"
        }
      ]
    },
    {
      "cell_type": "code",
      "metadata": {
        "id": "Q7s_07d8Azlo",
        "colab_type": "code",
        "outputId": "2f27ccb6-a7a6-475b-a0a0-d04004131520",
        "colab": {
          "base_uri": "https://localhost:8080/",
          "height": 224
        }
      },
      "source": [
        "#Adding the second hidden layer\n",
        "classifier.add(Dense(output_dim = 6, init = 'uniform', activation = 'relu'))\n",
        "\n",
        "#Adding the output layer\n",
        "classifier.add(Dense(output_dim =1, init = 'uniform', activation = 'sigmoid'))\n",
        "\n",
        "# Compiling the ANN\n",
        "classifier.compile(optimizer = 'adam', loss = 'binary_crossentropy', metrics = ['accuracy'])"
      ],
      "execution_count": 0,
      "outputs": [
        {
          "output_type": "stream",
          "text": [
            "/usr/local/lib/python3.6/dist-packages/ipykernel_launcher.py:1: UserWarning: Update your `Dense` call to the Keras 2 API: `Dense(activation=\"relu\", units=6, kernel_initializer=\"uniform\")`\n",
            "  \"\"\"Entry point for launching an IPython kernel.\n",
            "/usr/local/lib/python3.6/dist-packages/ipykernel_launcher.py:4: UserWarning: Update your `Dense` call to the Keras 2 API: `Dense(activation=\"sigmoid\", units=1, kernel_initializer=\"uniform\")`\n",
            "  after removing the cwd from sys.path.\n",
            "W0726 06:45:33.419720 140487471871872 deprecation_wrapper.py:119] From /usr/local/lib/python3.6/dist-packages/keras/optimizers.py:790: The name tf.train.Optimizer is deprecated. Please use tf.compat.v1.train.Optimizer instead.\n",
            "\n",
            "W0726 06:45:33.442704 140487471871872 deprecation_wrapper.py:119] From /usr/local/lib/python3.6/dist-packages/keras/backend/tensorflow_backend.py:3376: The name tf.log is deprecated. Please use tf.math.log instead.\n",
            "\n",
            "W0726 06:45:33.449792 140487471871872 deprecation.py:323] From /usr/local/lib/python3.6/dist-packages/tensorflow/python/ops/nn_impl.py:180: add_dispatch_support.<locals>.wrapper (from tensorflow.python.ops.array_ops) is deprecated and will be removed in a future version.\n",
            "Instructions for updating:\n",
            "Use tf.where in 2.0, which has the same broadcast rule as np.where\n"
          ],
          "name": "stderr"
        }
      ]
    },
    {
      "cell_type": "code",
      "metadata": {
        "id": "eFSSvBZOBjur",
        "colab_type": "code",
        "outputId": "a7f0c41f-e753-4bde-d371-6b89d701782a",
        "colab": {
          "base_uri": "https://localhost:8080/",
          "height": 1000
        }
      },
      "source": [
        "#Fitting our ANN into the training set\n",
        "classifier.fit(X_train, Y_train, batch_size = 10, nb_epoch = 100)"
      ],
      "execution_count": 0,
      "outputs": [
        {
          "output_type": "stream",
          "text": [
            "/usr/local/lib/python3.6/dist-packages/ipykernel_launcher.py:1: UserWarning: The `nb_epoch` argument in `fit` has been renamed `epochs`.\n",
            "  \"\"\"Entry point for launching an IPython kernel.\n",
            "W0726 06:46:31.473048 140487471871872 deprecation_wrapper.py:119] From /usr/local/lib/python3.6/dist-packages/keras/backend/tensorflow_backend.py:986: The name tf.assign_add is deprecated. Please use tf.compat.v1.assign_add instead.\n",
            "\n"
          ],
          "name": "stderr"
        },
        {
          "output_type": "stream",
          "text": [
            "Epoch 1/100\n",
            "8000/8000 [==============================] - 7s 878us/step - loss: 0.4828 - acc: 0.7960\n",
            "Epoch 2/100\n",
            "8000/8000 [==============================] - 3s 320us/step - loss: 0.4296 - acc: 0.7960\n",
            "Epoch 3/100\n",
            "8000/8000 [==============================] - 3s 319us/step - loss: 0.4237 - acc: 0.7997\n",
            "Epoch 4/100\n",
            "8000/8000 [==============================] - 3s 318us/step - loss: 0.4186 - acc: 0.8210\n",
            "Epoch 5/100\n",
            "8000/8000 [==============================] - 3s 324us/step - loss: 0.4163 - acc: 0.8280\n",
            "Epoch 6/100\n",
            "8000/8000 [==============================] - 3s 323us/step - loss: 0.4144 - acc: 0.8299\n",
            "Epoch 7/100\n",
            "8000/8000 [==============================] - 3s 321us/step - loss: 0.4129 - acc: 0.8316\n",
            "Epoch 8/100\n",
            "8000/8000 [==============================] - 3s 320us/step - loss: 0.4122 - acc: 0.8325\n",
            "Epoch 9/100\n",
            "8000/8000 [==============================] - 3s 325us/step - loss: 0.4109 - acc: 0.8336\n",
            "Epoch 10/100\n",
            "8000/8000 [==============================] - 3s 319us/step - loss: 0.4099 - acc: 0.8339\n",
            "Epoch 11/100\n",
            "8000/8000 [==============================] - 3s 320us/step - loss: 0.4094 - acc: 0.8350\n",
            "Epoch 12/100\n",
            "8000/8000 [==============================] - 3s 321us/step - loss: 0.4087 - acc: 0.8354\n",
            "Epoch 13/100\n",
            "8000/8000 [==============================] - 3s 326us/step - loss: 0.4084 - acc: 0.8349\n",
            "Epoch 14/100\n",
            "8000/8000 [==============================] - 3s 320us/step - loss: 0.4077 - acc: 0.8342\n",
            "Epoch 15/100\n",
            "8000/8000 [==============================] - 3s 323us/step - loss: 0.4076 - acc: 0.8342\n",
            "Epoch 16/100\n",
            "8000/8000 [==============================] - 3s 321us/step - loss: 0.4067 - acc: 0.8341\n",
            "Epoch 17/100\n",
            "8000/8000 [==============================] - 3s 328us/step - loss: 0.4065 - acc: 0.8365\n",
            "Epoch 18/100\n",
            "8000/8000 [==============================] - 3s 322us/step - loss: 0.4063 - acc: 0.8365\n",
            "Epoch 19/100\n",
            "8000/8000 [==============================] - 3s 322us/step - loss: 0.4059 - acc: 0.8359\n",
            "Epoch 20/100\n",
            "8000/8000 [==============================] - 3s 324us/step - loss: 0.4058 - acc: 0.8342\n",
            "Epoch 21/100\n",
            "8000/8000 [==============================] - 3s 334us/step - loss: 0.4058 - acc: 0.8345\n",
            "Epoch 22/100\n",
            "8000/8000 [==============================] - 3s 343us/step - loss: 0.4044 - acc: 0.8351\n",
            "Epoch 23/100\n",
            "8000/8000 [==============================] - 3s 328us/step - loss: 0.4055 - acc: 0.8347\n",
            "Epoch 24/100\n",
            "8000/8000 [==============================] - 3s 325us/step - loss: 0.4048 - acc: 0.8341\n",
            "Epoch 25/100\n",
            "8000/8000 [==============================] - 3s 323us/step - loss: 0.4051 - acc: 0.8344\n",
            "Epoch 26/100\n",
            "8000/8000 [==============================] - 3s 322us/step - loss: 0.4042 - acc: 0.8366\n",
            "Epoch 27/100\n",
            "8000/8000 [==============================] - 3s 324us/step - loss: 0.4051 - acc: 0.8357\n",
            "Epoch 28/100\n",
            "8000/8000 [==============================] - 3s 323us/step - loss: 0.4042 - acc: 0.8357\n",
            "Epoch 29/100\n",
            "8000/8000 [==============================] - 3s 326us/step - loss: 0.4042 - acc: 0.8349\n",
            "Epoch 30/100\n",
            "8000/8000 [==============================] - 3s 320us/step - loss: 0.4039 - acc: 0.8341\n",
            "Epoch 31/100\n",
            "8000/8000 [==============================] - 3s 321us/step - loss: 0.4043 - acc: 0.8350\n",
            "Epoch 32/100\n",
            "8000/8000 [==============================] - 3s 324us/step - loss: 0.4037 - acc: 0.8346\n",
            "Epoch 33/100\n",
            "8000/8000 [==============================] - 3s 325us/step - loss: 0.4034 - acc: 0.8346\n",
            "Epoch 34/100\n",
            "8000/8000 [==============================] - 3s 321us/step - loss: 0.4038 - acc: 0.8345\n",
            "Epoch 35/100\n",
            "8000/8000 [==============================] - 3s 325us/step - loss: 0.4032 - acc: 0.8346\n",
            "Epoch 36/100\n",
            "8000/8000 [==============================] - 3s 322us/step - loss: 0.4031 - acc: 0.8334\n",
            "Epoch 37/100\n",
            "8000/8000 [==============================] - 3s 320us/step - loss: 0.4032 - acc: 0.8342\n",
            "Epoch 38/100\n",
            "8000/8000 [==============================] - 3s 325us/step - loss: 0.4027 - acc: 0.8344\n",
            "Epoch 39/100\n",
            "8000/8000 [==============================] - 3s 321us/step - loss: 0.4028 - acc: 0.8349\n",
            "Epoch 40/100\n",
            "8000/8000 [==============================] - 3s 321us/step - loss: 0.4028 - acc: 0.8340\n",
            "Epoch 41/100\n",
            "8000/8000 [==============================] - 3s 321us/step - loss: 0.4028 - acc: 0.8366\n",
            "Epoch 42/100\n",
            "8000/8000 [==============================] - 3s 323us/step - loss: 0.4026 - acc: 0.8349\n",
            "Epoch 43/100\n",
            "8000/8000 [==============================] - 3s 320us/step - loss: 0.4030 - acc: 0.8349\n",
            "Epoch 44/100\n",
            "8000/8000 [==============================] - 3s 319us/step - loss: 0.4018 - acc: 0.8357\n",
            "Epoch 45/100\n",
            "8000/8000 [==============================] - 3s 320us/step - loss: 0.4018 - acc: 0.8342\n",
            "Epoch 46/100\n",
            "8000/8000 [==============================] - 3s 324us/step - loss: 0.4021 - acc: 0.8344\n",
            "Epoch 47/100\n",
            "8000/8000 [==============================] - 3s 319us/step - loss: 0.4025 - acc: 0.8346\n",
            "Epoch 48/100\n",
            "8000/8000 [==============================] - 3s 319us/step - loss: 0.4016 - acc: 0.8337\n",
            "Epoch 49/100\n",
            "8000/8000 [==============================] - 3s 323us/step - loss: 0.4020 - acc: 0.8345\n",
            "Epoch 50/100\n",
            "8000/8000 [==============================] - 3s 322us/step - loss: 0.4015 - acc: 0.8357\n",
            "Epoch 51/100\n",
            "8000/8000 [==============================] - 3s 323us/step - loss: 0.4018 - acc: 0.8330\n",
            "Epoch 52/100\n",
            "8000/8000 [==============================] - 3s 323us/step - loss: 0.4017 - acc: 0.8339\n",
            "Epoch 53/100\n",
            "8000/8000 [==============================] - 3s 325us/step - loss: 0.4019 - acc: 0.8340\n",
            "Epoch 54/100\n",
            "8000/8000 [==============================] - 3s 327us/step - loss: 0.4017 - acc: 0.8337\n",
            "Epoch 55/100\n",
            "8000/8000 [==============================] - 3s 323us/step - loss: 0.4013 - acc: 0.8346\n",
            "Epoch 56/100\n",
            "8000/8000 [==============================] - 3s 321us/step - loss: 0.4011 - acc: 0.8340\n",
            "Epoch 57/100\n",
            "8000/8000 [==============================] - 3s 321us/step - loss: 0.4016 - acc: 0.8341\n",
            "Epoch 58/100\n",
            "8000/8000 [==============================] - 3s 324us/step - loss: 0.4007 - acc: 0.8346\n",
            "Epoch 59/100\n",
            "8000/8000 [==============================] - 3s 322us/step - loss: 0.4012 - acc: 0.8340\n",
            "Epoch 60/100\n",
            "8000/8000 [==============================] - 3s 323us/step - loss: 0.4003 - acc: 0.8345\n",
            "Epoch 61/100\n",
            "8000/8000 [==============================] - 3s 319us/step - loss: 0.4011 - acc: 0.8359\n",
            "Epoch 62/100\n",
            "8000/8000 [==============================] - 3s 321us/step - loss: 0.4009 - acc: 0.8355\n",
            "Epoch 63/100\n",
            "8000/8000 [==============================] - 3s 323us/step - loss: 0.4009 - acc: 0.8351\n",
            "Epoch 64/100\n",
            "8000/8000 [==============================] - 3s 320us/step - loss: 0.4004 - acc: 0.8354\n",
            "Epoch 65/100\n",
            "8000/8000 [==============================] - 3s 318us/step - loss: 0.4009 - acc: 0.8361\n",
            "Epoch 66/100\n",
            "8000/8000 [==============================] - 3s 321us/step - loss: 0.4002 - acc: 0.8355\n",
            "Epoch 67/100\n",
            "8000/8000 [==============================] - 3s 324us/step - loss: 0.4007 - acc: 0.8350\n",
            "Epoch 68/100\n",
            "8000/8000 [==============================] - 3s 320us/step - loss: 0.3997 - acc: 0.8364\n",
            "Epoch 69/100\n",
            "8000/8000 [==============================] - 3s 319us/step - loss: 0.4011 - acc: 0.8341\n",
            "Epoch 70/100\n",
            "8000/8000 [==============================] - 3s 322us/step - loss: 0.4003 - acc: 0.8357\n",
            "Epoch 71/100\n",
            "8000/8000 [==============================] - 3s 323us/step - loss: 0.4001 - acc: 0.8361\n",
            "Epoch 72/100\n",
            "8000/8000 [==============================] - 3s 321us/step - loss: 0.4010 - acc: 0.8337\n",
            "Epoch 73/100\n",
            "8000/8000 [==============================] - 3s 322us/step - loss: 0.4004 - acc: 0.8341\n",
            "Epoch 74/100\n",
            "8000/8000 [==============================] - 3s 320us/step - loss: 0.4006 - acc: 0.8362\n",
            "Epoch 75/100\n",
            "8000/8000 [==============================] - 3s 322us/step - loss: 0.4002 - acc: 0.8349\n",
            "Epoch 76/100\n",
            "8000/8000 [==============================] - 3s 324us/step - loss: 0.4008 - acc: 0.8334\n",
            "Epoch 77/100\n",
            "8000/8000 [==============================] - 3s 320us/step - loss: 0.3999 - acc: 0.8344\n",
            "Epoch 78/100\n",
            "8000/8000 [==============================] - 3s 321us/step - loss: 0.4001 - acc: 0.8351\n",
            "Epoch 79/100\n",
            "8000/8000 [==============================] - 3s 321us/step - loss: 0.3998 - acc: 0.8365\n",
            "Epoch 80/100\n",
            "8000/8000 [==============================] - 3s 322us/step - loss: 0.4002 - acc: 0.8357\n",
            "Epoch 81/100\n",
            "8000/8000 [==============================] - 3s 320us/step - loss: 0.3995 - acc: 0.8362\n",
            "Epoch 82/100\n",
            "8000/8000 [==============================] - 3s 322us/step - loss: 0.3994 - acc: 0.8371\n",
            "Epoch 83/100\n",
            "8000/8000 [==============================] - 3s 325us/step - loss: 0.3998 - acc: 0.8360\n",
            "Epoch 84/100\n",
            "8000/8000 [==============================] - 3s 324us/step - loss: 0.4002 - acc: 0.8362\n",
            "Epoch 85/100\n",
            "8000/8000 [==============================] - 3s 324us/step - loss: 0.3993 - acc: 0.8370\n",
            "Epoch 86/100\n",
            "8000/8000 [==============================] - 3s 334us/step - loss: 0.4001 - acc: 0.8351\n",
            "Epoch 87/100\n",
            "8000/8000 [==============================] - 3s 334us/step - loss: 0.3998 - acc: 0.8346\n",
            "Epoch 88/100\n",
            "8000/8000 [==============================] - 3s 339us/step - loss: 0.3999 - acc: 0.8360\n",
            "Epoch 89/100\n",
            "8000/8000 [==============================] - 3s 333us/step - loss: 0.3997 - acc: 0.8355\n",
            "Epoch 90/100\n",
            "8000/8000 [==============================] - 3s 328us/step - loss: 0.4003 - acc: 0.8351\n",
            "Epoch 91/100\n",
            "8000/8000 [==============================] - 3s 317us/step - loss: 0.3997 - acc: 0.8355\n",
            "Epoch 92/100\n",
            "8000/8000 [==============================] - 3s 321us/step - loss: 0.3998 - acc: 0.8352\n",
            "Epoch 93/100\n",
            "8000/8000 [==============================] - 3s 320us/step - loss: 0.3995 - acc: 0.8360\n",
            "Epoch 94/100\n",
            "8000/8000 [==============================] - 3s 321us/step - loss: 0.3997 - acc: 0.8344\n",
            "Epoch 95/100\n",
            "8000/8000 [==============================] - 3s 318us/step - loss: 0.3995 - acc: 0.8361\n",
            "Epoch 96/100\n",
            "8000/8000 [==============================] - 3s 320us/step - loss: 0.3999 - acc: 0.8346\n",
            "Epoch 97/100\n",
            "8000/8000 [==============================] - 3s 318us/step - loss: 0.3995 - acc: 0.8369\n",
            "Epoch 98/100\n",
            "8000/8000 [==============================] - 3s 320us/step - loss: 0.3994 - acc: 0.8342\n",
            "Epoch 99/100\n",
            "8000/8000 [==============================] - 3s 323us/step - loss: 0.3995 - acc: 0.8351\n",
            "Epoch 100/100\n",
            "8000/8000 [==============================] - 3s 324us/step - loss: 0.3990 - acc: 0.8355\n"
          ],
          "name": "stdout"
        },
        {
          "output_type": "execute_result",
          "data": {
            "text/plain": [
              "<keras.callbacks.History at 0x7fc5762ccfd0>"
            ]
          },
          "metadata": {
            "tags": []
          },
          "execution_count": 20
        }
      ]
    },
    {
      "cell_type": "code",
      "metadata": {
        "id": "iaTnfZwMB9hj",
        "colab_type": "code",
        "colab": {}
      },
      "source": [
        "#Predicting the test set results from our trained model\n",
        "Y_pred = classifier.predict(X_test)"
      ],
      "execution_count": 0,
      "outputs": []
    },
    {
      "cell_type": "code",
      "metadata": {
        "id": "BcWqRyhYECvp",
        "colab_type": "code",
        "colab": {}
      },
      "source": [
        "Y_pred = (Y_pred > 0.5)"
      ],
      "execution_count": 0,
      "outputs": []
    },
    {
      "cell_type": "code",
      "metadata": {
        "id": "emo7Ep68DMKK",
        "colab_type": "code",
        "colab": {}
      },
      "source": [
        "from sklearn.metrics import confusion_matrix\n",
        "cm = confusion_matrix(Y_test, Y_pred) "
      ],
      "execution_count": 0,
      "outputs": []
    },
    {
      "cell_type": "code",
      "metadata": {
        "id": "5siNKQydEYbs",
        "colab_type": "code",
        "outputId": "0ba1eaff-367f-4111-d9c1-a06b005b68dd",
        "colab": {
          "base_uri": "https://localhost:8080/",
          "height": 51
        }
      },
      "source": [
        "cm"
      ],
      "execution_count": 0,
      "outputs": [
        {
          "output_type": "execute_result",
          "data": {
            "text/plain": [
              "array([[1538,   57],\n",
              "       [ 251,  154]])"
            ]
          },
          "metadata": {
            "tags": []
          },
          "execution_count": 33
        }
      ]
    },
    {
      "cell_type": "code",
      "metadata": {
        "id": "W3eADPA7EazT",
        "colab_type": "code",
        "colab": {}
      },
      "source": [
        "pd.DataFrame(Y).to_csv(\"abc.csv\")\n"
      ],
      "execution_count": 0,
      "outputs": []
    },
    {
      "cell_type": "code",
      "metadata": {
        "id": "jXqnBL-cUDae",
        "colab_type": "code",
        "colab": {}
      },
      "source": [
        ""
      ],
      "execution_count": 0,
      "outputs": []
    }
  ]
}